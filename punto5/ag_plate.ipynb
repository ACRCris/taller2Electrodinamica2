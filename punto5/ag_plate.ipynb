{
 "cells": [
  {
   "cell_type": "code",
   "execution_count": 2,
   "id": "41c4e917",
   "metadata": {},
   "outputs": [],
   "source": [
    "import numpy as np\n",
    "import matplotlib.pyplot as plt\n",
    "\n",
    "\n",
    "epsilon0 = 55.26\n",
    "freq_range = np.arange(50, 301, 1)\n"
   ]
  },
  {
   "cell_type": "code",
   "execution_count": 3,
   "id": "e5fffd2f",
   "metadata": {},
   "outputs": [],
   "source": [
    "\n",
    "def thz_to_angular_frequency(thz_frequency):\n",
    "    hz_frequency = thz_frequency * 1e12\n",
    "    angular_frequency = 2 * np.pi * hz_frequency\n",
    "    return angular_frequency\n",
    "vthz_to_angular_frequency = np.vectorize(thz_to_angular_frequency)"
   ]
  },
  {
   "cell_type": "code",
   "execution_count": 4,
   "id": "e0cef6c8",
   "metadata": {},
   "outputs": [
    {
     "name": "stdout",
     "output_type": "stream",
     "text": [
      "Frequency: 1.382300767579509e+16 rad/s, Angular frequency: 32664395456434.516 rad/s\n"
     ]
    }
   ],
   "source": [
    "plasma_frequency = 2200\n",
    "plasma_ang_freq = thz_to_angular_frequency(plasma_frequency)\n",
    "damping_frequency =  5.1987\n",
    "damping_ang_freq = thz_to_angular_frequency(damping_frequency)\n",
    "print(f\"Frequency: {plasma_ang_freq} rad/s, Angular frequency: {damping_ang_freq} rad/s\")\n",
    "angular_frequencies= thz_to_angular_frequency(freq_range)"
   ]
  },
  {
   "cell_type": "code",
   "execution_count": 13,
   "id": "e99ed534",
   "metadata": {},
   "outputs": [],
   "source": [
    "\n",
    "def drude_permittivity(plasma_frequency, gamma, angular_frequencies):#Modelo de drude para la permitividad de la plata\n",
    "    epsilon_values = np.zeros([251],dtype = 'complex_')\n",
    "    for i,angular_frequency in enumerate(angular_frequencies):\n",
    "        epsilon = (1 - (plasma_frequency**2 / (angular_frequency**2 + 1j * angular_frequency * gamma))) #Calculo de la permitividad relativa entre el vacio y la plata\n",
    "        epsilon_values[i] =np.sqrt(np.conjugate(epsilon)* epsilon) # Calculo de la modulo de la permitividad relativa\n",
    "\n",
    "    return epsilon_values\n",
    "\n",
    "\n",
    "epsilon_r_values = drude_permittivity(plasma_ang_freq, damping_ang_freq, angular_frequencies)\n"
   ]
  },
  {
   "cell_type": "code",
   "execution_count": 6,
   "id": "4f96afd9",
   "metadata": {},
   "outputs": [
    {
     "name": "stdout",
     "output_type": "stream",
     "text": [
      "[4.59411283+0.j 4.59454197+0.j 4.59494312+0.j 4.59531828+0.j\n",
      " 4.59566926+0.j 4.59599773+0.j 4.5963052 +0.j 4.59659305+0.j\n",
      " 4.59686254+0.j 4.59711484+0.j 4.59735101+0.j 4.59757203+0.j\n",
      " 4.59777881+0.j 4.59797216+0.j 4.59815287+0.j 4.59832163+0.j\n",
      " 4.59847912+0.j 4.59862593+0.j 4.59876262+0.j 4.59888973+0.j\n",
      " 4.59900774+0.j 4.5991171 +0.j 4.59921824+0.j 4.59931154+0.j\n",
      " 4.59939738+0.j 4.5994761 +0.j 4.59954802+0.j 4.59961344+0.j\n",
      " 4.59967264+0.j 4.59972589+0.j 4.59977342+0.j 4.59981548+0.j\n",
      " 4.59985229+0.j 4.59988404+0.j 4.59991093+0.j 4.59993315+0.j\n",
      " 4.59995086+0.j 4.59996423+0.j 4.5999734 +0.j 4.59997853+0.j\n",
      " 4.59997975+0.j 4.59997718+0.j 4.59997095+0.j 4.59996118+0.j\n",
      " 4.59994798+0.j 4.59993144+0.j 4.59991166+0.j 4.59988875+0.j\n",
      " 4.59986278+0.j 4.59983385+0.j 4.59980202+0.j 4.59976738+0.j\n",
      " 4.59973001+0.j 4.59968996+0.j 4.5996473 +0.j 4.5996021 +0.j\n",
      " 4.59955442+0.j 4.59950431+0.j 4.59945182+0.j 4.59939702+0.j\n",
      " 4.59933994+0.j 4.59928063+0.j 4.59921914+0.j 4.59915552+0.j\n",
      " 4.5990898 +0.j 4.59902202+0.j 4.59895222+0.j 4.59888044+0.j\n",
      " 4.59880671+0.j 4.59873107+0.j 4.59865354+0.j 4.59857416+0.j\n",
      " 4.59849295+0.j 4.59840994+0.j 4.59832517+0.j 4.59823865+0.j\n",
      " 4.59815042+0.j 4.59806048+0.j 4.59796888+0.j 4.59787562+0.j\n",
      " 4.59778074+0.j 4.59768425+0.j 4.59758617+0.j 4.59748651+0.j\n",
      " 4.59738531+0.j 4.59728257+0.j 4.59717831+0.j 4.59707255+0.j\n",
      " 4.5969653 +0.j 4.59685659+0.j 4.59674641+0.j 4.59663479+0.j\n",
      " 4.59652175+0.j 4.59640729+0.j 4.59629142+0.j 4.59617416+0.j\n",
      " 4.59605553+0.j 4.59593552+0.j 4.59581416+0.j 4.59569145+0.j\n",
      " 4.5955674 +0.j 4.59544203+0.j 4.59531534+0.j 4.59518734+0.j\n",
      " 4.59505804+0.j 4.59492746+0.j 4.59479559+0.j 4.59466244+0.j\n",
      " 4.59452803+0.j 4.59439237+0.j 4.59425545+0.j 4.59411728+0.j\n",
      " 4.59397788+0.j 4.59383725+0.j 4.5936954 +0.j 4.59355233+0.j\n",
      " 4.59340804+0.j 4.59326255+0.j 4.59311586+0.j 4.59296798+0.j\n",
      " 4.59281891+0.j 4.59266865+0.j 4.59251721+0.j 4.5923646 +0.j\n",
      " 4.59221083+0.j 4.59205588+0.j 4.59189978+0.j 4.59174252+0.j\n",
      " 4.59158411+0.j 4.59142456+0.j 4.59126386+0.j 4.59110202+0.j\n",
      " 4.59093904+0.j 4.59077494+0.j 4.5906097 +0.j 4.59044334+0.j\n",
      " 4.59027586+0.j 4.59010726+0.j 4.58993755+0.j 4.58976672+0.j\n",
      " 4.58959479+0.j 4.58942175+0.j 4.5892476 +0.j 4.58907236+0.j\n",
      " 4.58889602+0.j 4.58871858+0.j 4.58854005+0.j 4.58836043+0.j\n",
      " 4.58817973+0.j 4.58799794+0.j 4.58781506+0.j 4.58763111+0.j\n",
      " 4.58744608+0.j 4.58725997+0.j 4.58707279+0.j 4.58688453+0.j\n",
      " 4.58669521+0.j 4.58650481+0.j 4.58631335+0.j 4.58612083+0.j\n",
      " 4.58592724+0.j 4.5857326 +0.j 4.58553689+0.j 4.58534012+0.j\n",
      " 4.5851423 +0.j 4.58494343+0.j 4.5847435 +0.j 4.58454252+0.j\n",
      " 4.58434048+0.j 4.5841374 +0.j 4.58393328+0.j 4.5837281 +0.j\n",
      " 4.58352189+0.j 4.58331462+0.j 4.58310632+0.j 4.58289698+0.j\n",
      " 4.58268659+0.j 4.58247517+0.j 4.58226271+0.j 4.58204921+0.j\n",
      " 4.58183467+0.j 4.58161911+0.j 4.5814025 +0.j 4.58118487+0.j\n",
      " 4.5809662 +0.j 4.58074651+0.j 4.58052578+0.j 4.58030403+0.j\n",
      " 4.58008124+0.j 4.57985743+0.j 4.5796326 +0.j 4.57940674+0.j\n",
      " 4.57917985+0.j 4.57895194+0.j 4.57872301+0.j 4.57849305+0.j\n",
      " 4.57826207+0.j 4.57803007+0.j 4.57779705+0.j 4.57756301+0.j\n",
      " 4.57732796+0.j 4.57709188+0.j 4.57685479+0.j 4.57661667+0.j\n",
      " 4.57637754+0.j 4.5761374 +0.j 4.57589624+0.j 4.57565406+0.j\n",
      " 4.57541087+0.j 4.57516667+0.j 4.57492145+0.j 4.57467522+0.j\n",
      " 4.57442798+0.j 4.57417972+0.j 4.57393045+0.j 4.57368017+0.j\n",
      " 4.57342888+0.j 4.57317658+0.j 4.57292327+0.j 4.57266895+0.j\n",
      " 4.57241362+0.j 4.57215728+0.j 4.57189993+0.j 4.57164158+0.j\n",
      " 4.57138221+0.j 4.57112184+0.j 4.57086046+0.j 4.57059808+0.j\n",
      " 4.57033468+0.j 4.57007028+0.j 4.56980488+0.j 4.56953847+0.j\n",
      " 4.56927105+0.j 4.56900263+0.j 4.5687332 +0.j 4.56846276+0.j\n",
      " 4.56819133+0.j 4.56791888+0.j 4.56764544+0.j 4.56737099+0.j\n",
      " 4.56709553+0.j 4.56681907+0.j 4.56654161+0.j 4.56626314+0.j\n",
      " 4.56598368+0.j 4.5657032 +0.j 4.56542173+0.j 4.56513925+0.j\n",
      " 4.56485577+0.j 4.56457129+0.j 4.5642858 +0.j]\n"
     ]
    }
   ],
   "source": [
    "def getKd(frecuencia, permitividad): #Calulo de del producto del numero de onda y el espesor de la placa de plata\n",
    "    '''\n",
    "    se usa la la raiz de la permitidad relativa que es ingual indice de refraccion de la plata n, por lo que hay que divide por la\n",
    "    velocidad de la luz en metros y al calcular el espesor en metros se multiplica por (1/3) 10^(-15).\n",
    "    '''\n",
    "    K=frecuencia*np.sqrt(permitividad)*(1/3)*(10**(-15)) \n",
    "    return K\n",
    "\n",
    "vgetKd= np.vectorize(getKd)\n",
    "\n",
    "kd= vgetKd(angular_frequencies,epsilon_r_values)\n"
   ]
  },
  {
   "cell_type": "code",
   "execution_count": 18,
   "id": "1bf4ad06",
   "metadata": {},
   "outputs": [],
   "source": [
    "def P_1(kd):# Calculo de la matriz de propagacion de en la plata (medio 1)\n",
    "\n",
    "    matrix = np.zeros([2,2], dtype='complex_')\n",
    "    matrix[0][0]  = np.exp(-1j*kd)\n",
    "    matrix[1][1] = np.exp(1j*kd)\n",
    "    \n",
    "    return matrix\n",
    "\n"
   ]
  },
  {
   "cell_type": "code",
   "execution_count": 19,
   "id": "cb4bf783",
   "metadata": {},
   "outputs": [],
   "source": [
    "def D_01(epsilon_r):# Calculo de la matriz de transmisión del vacio(medio 0) a la plata(medio 1)\n",
    "    \n",
    "    matrix = np.zeros([2,2], dtype='complex_')\n",
    "    t_1_t = (np.sqrt(epsilon_r) +1)/2 # 1/t\n",
    "    r = (np.sqrt(epsilon_r) - 1)/(np.sqrt(epsilon_r)+1)\n",
    "    matrix[0][0] = t_1_t\n",
    "    matrix[0][1] = r*t_1_t\n",
    "    matrix[1][0] = r*t_1_t\n",
    "    matrix[1][1] = t_1_t\n",
    "        \n",
    "    return matrix"
   ]
  },
  {
   "cell_type": "code",
   "execution_count": 20,
   "id": "b5971290",
   "metadata": {},
   "outputs": [],
   "source": [
    "def D_12(epsilon_r):# Calculo de la matriz de transmisión de la plata (medio 1) al vacio (medio 2)\n",
    "    \n",
    "    matrix = np.zeros([2,2], dtype='complex_')\n",
    "    t_1_t = (np.sqrt(epsilon_r) +1)/(2*np.sqrt(epsilon_r) +1) # 1/t\n",
    "    r = (1- np.sqrt(epsilon_r) )/(np.sqrt(epsilon_r)+1)\n",
    "    matrix[0][0] = t_1_t\n",
    "    matrix[0][1] = r*t_1_t\n",
    "    matrix[1][0] = r*t_1_t\n",
    "    matrix[1][1] = t_1_t\n",
    "        \n",
    "    return matrix"
   ]
  },
  {
   "cell_type": "code",
   "execution_count": 21,
   "id": "ca673e8c",
   "metadata": {},
   "outputs": [],
   "source": [
    "def getTransfermatrix(kds, epsilon_r_values): # Calculo de la matriz de transferencia total M = D_01*P_1*D_12 del punto 4\n",
    "    matrices= list()\n",
    "    for i in range(len(kds)):\n",
    "        totalMatrix = np.matrix(D_01(epsilon_r_values[i]))*np.matrix(P_1(kds[i]))*np.matrix(D_12(epsilon_r_values[i]))\n",
    "        matrices.append(totalMatrix)\n",
    "    \n",
    "    return matrices\n",
    "\n",
    "\n",
    "Tmatrices= getTransfermatrix(kd, epsilon_r_values)\n",
    "\n"
   ]
  },
  {
   "cell_type": "code",
   "execution_count": 22,
   "id": "6d46f8fc",
   "metadata": {},
   "outputs": [
    {
     "name": "stdout",
     "output_type": "stream",
     "text": [
      "(1.0031684184055152+0j)\n",
      "0.0030408555580581473\n"
     ]
    }
   ],
   "source": [
    "def TyR(Tmatrices): # Calculo de la transmitancia y la reflectancia t= 1/M_11 y r = M_21/M_11\n",
    "    T = np.zeros([251],dtype=\"complex_\")\n",
    "    R = np.zeros([251],dtype=\"complex_\")\n",
    "    \n",
    "    for i,m in enumerate(Tmatrices):\n",
    "        T[i] = (1/m.item(0,0))*np.conjugate((1/m.item(0,0))) \n",
    "        R[i] = (m.item(1,0)/m.item(0,0))*np.conjugate((m.item(1,0)/m.item(0,0)))\n",
    "    return R,T\n",
    "\n",
    "R, T = TyR(Tmatrices)\n",
    "\n",
    "\n",
    "\n",
    "print(np.mean(T+R)) # Calculo de la transmitancia y la reflectancia promedio\n",
    "print(np.std(R+T)) # Calculo de la desviacion estandar de la transmitancia y la reflectancia promedio\n",
    "\n",
    "\n",
    "\n"
   ]
  },
  {
   "cell_type": "code",
   "execution_count": 36,
   "id": "1e7da043",
   "metadata": {},
   "outputs": [
    {
     "data": {
      "image/png": "[encoded data removed]",
      "text/plain": [
       "<Figure size 800x1200 with 2 Axes>"
      ]
     },
     "metadata": {},
     "output_type": "display_data"
    },
    {
     "data": {
      "image/png": "[encoded data removed]",
      "text/plain": [
       "<Figure size 800x400 with 1 Axes>"
      ]
     },
     "metadata": {},
     "output_type": "display_data"
    }
   ],
   "source": [
    "fig, ax2 = plt.subplots(2,1, figsize=(8 ,12))\n",
    "ax2[0].plot(freq_range,T,'.', markersize=0.5)\n",
    "ax2[1].plot(freq_range,R,'.', markersize=0.5)\n",
    "ax2[0].set_title(\"Transmitancia\")\n",
    "ax2[1].set_title(\"Reflectancia\")\n",
    "ax2[0].set_xlabel(\"Frecuencia (THz)\")\n",
    "ax2[1].set_xlabel(\"Frecuencia (THz)\")\n",
    "ax2[0].set_ylabel(\"Transmitancia\")\n",
    "ax2[1].set_ylabel(\"Reflectancia\")\n",
    "\n",
    "\n",
    "plt.savefig(\"Graficas.png\")\n",
    "fig, ax3 = plt.subplots(1,1, figsize=(8,4))\n",
    "ax3.plot(freq_range,R,'.', markersize=0.5, label=\"Reflectancia\")\n",
    "ax3.plot(freq_range,T,'.', markersize=0.5, label=\"Transmitancia\")\n",
    "ax3.set_title(\"Transmitancia y Reflectancia vs Frecuencia\")\n",
    "ax3.set_xlabel(\"Frecuencia (THz)\")\n",
    "ax3.set_ylabel(\"Transmitancia y Reflectancia\")\n",
    "ax3.legend()\n",
    "\n",
    "plt.savefig(\"Graficas2.png\")\n"
   ]
  },
  {
   "cell_type": "code",
   "execution_count": null,
   "id": "6c7c829e",
   "metadata": {},
   "outputs": [],
   "source": []
  },
  {
   "cell_type": "code",
   "execution_count": null,
   "id": "5850302b",
   "metadata": {},
   "outputs": [],
   "source": []
  },
  {
   "cell_type": "code",
   "execution_count": null,
   "id": "2d62530c",
   "metadata": {},
   "outputs": [],
   "source": []
  },
  {
   "cell_type": "code",
   "execution_count": null,
   "id": "a621f619",
   "metadata": {},
   "outputs": [],
   "source": []
  },
  {
   "cell_type": "code",
   "execution_count": null,
   "id": "b0a74702",
   "metadata": {},
   "outputs": [],
   "source": []
  },
  {
   "cell_type": "code",
   "execution_count": null,
   "id": "62a2859b",
   "metadata": {},
   "outputs": [],
   "source": []
  },
  {
   "cell_type": "code",
   "execution_count": null,
   "id": "7e1a6e46",
   "metadata": {},
   "outputs": [],
   "source": []
  },
  {
   "cell_type": "code",
   "execution_count": null,
   "id": "8b7656f8",
   "metadata": {},
   "outputs": [],
   "source": []
  },
  {
   "cell_type": "code",
   "execution_count": null,
   "id": "e3000a75",
   "metadata": {},
   "outputs": [],
   "source": []
  },
  {
   "cell_type": "code",
   "execution_count": null,
   "id": "e0d806c9",
   "metadata": {},
   "outputs": [],
   "source": []
  },
  {
   "cell_type": "code",
   "execution_count": null,
   "id": "3e37a176",
   "metadata": {},
   "outputs": [],
   "source": []
  },
  {
   "cell_type": "code",
   "execution_count": null,
   "id": "3628272e",
   "metadata": {},
   "outputs": [],
   "source": []
  },
  {
   "cell_type": "code",
   "execution_count": null,
   "id": "26850c24",
   "metadata": {},
   "outputs": [],
   "source": []
  },
  {
   "cell_type": "code",
   "execution_count": null,
   "id": "f8c0e599",
   "metadata": {},
   "outputs": [],
   "source": []
  },
  {
   "cell_type": "code",
   "execution_count": null,
   "id": "3875a8bb",
   "metadata": {},
   "outputs": [],
   "source": []
  },
  {
   "cell_type": "code",
   "execution_count": null,
   "id": "3cdd82eb",
   "metadata": {},
   "outputs": [],
   "source": []
  },
  {
   "cell_type": "code",
   "execution_count": null,
   "id": "7fddd3e6",
   "metadata": {},
   "outputs": [],
   "source": []
  },
  {
   "cell_type": "code",
   "execution_count": null,
   "id": "d142c73f",
   "metadata": {},
   "outputs": [],
   "source": []
  },
  {
   "cell_type": "code",
   "execution_count": null,
   "id": "9c700538",
   "metadata": {},
   "outputs": [],
   "source": []
  }
 ],
 "metadata": {
  "kernelspec": {
   "display_name": "Python 3",
   "language": "python",
   "name": "python3"
  },
  "language_info": {
   "codemirror_mode": {
    "name": "ipython",
    "version": 3
   },
   "file_extension": ".py",
   "mimetype": "text/x-python",
   "name": "python",
   "nbconvert_exporter": "python",
   "pygments_lexer": "ipython3",
   "version": "3.11.1"
  }
 },
 "nbformat": 4,
 "nbformat_minor": 5
}
